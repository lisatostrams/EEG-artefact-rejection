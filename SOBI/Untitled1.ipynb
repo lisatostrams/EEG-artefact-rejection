{
 "cells": [
  {
   "cell_type": "markdown",
   "metadata": {},
   "source": []
  },
  {
   "cell_type": "code",
   "execution_count": 4,
   "metadata": {
    "scrolled": true
   },
   "outputs": [
    {
     "name": "stdout",
     "output_type": "stream",
     "text": [
      "--- 0.00 seconds xcorr fft ---\n",
      "--- 13.33 seconds xcorr direct ---\n",
      "(23, 23)\n",
      "--- 5.25 seconds diagonalizing ---\n",
      "(23, 23)\n",
      "--- 0.53 seconds diagonalizing ---\n"
     ]
    },
    {
     "name": "stderr",
     "output_type": "stream",
     "text": [
      "C:\\Users\\Lisa\\Anaconda3\\lib\\site-packages\\numpy\\lib\\function_base.py:3183: RuntimeWarning: invalid value encountered in true_divide\n",
      "  c /= stddev[:, None]\n",
      "C:\\Users\\Lisa\\Anaconda3\\lib\\site-packages\\numpy\\lib\\function_base.py:3184: RuntimeWarning: invalid value encountered in true_divide\n",
      "  c /= stddev[None, :]\n"
     ]
    }
   ],
   "source": [
    "import sys\n",
    "sys.path.append('C:/Users/Lisa/Desktop/SOBI_TestData')\n",
    "\n",
    "import PEEG_Analyse2 as pa\n",
    "import SOBI as sobi\n",
    "import Validate as val\n",
    "from scipy import signal\n",
    "import matplotlib.transforms as mtransforms\n",
    "import matplotlib.pyplot as plt\n",
    "import numpy as np\n",
    "import pandas as pd\n",
    "from pandas import rolling_corr\n",
    "import time\n",
    "\n",
    "file='C:/Users/Lisa/Desktop/SOBI_TestData/S0002O01M01_pEEG_CHDR1633_13OCT2017_125357.EDF'\n",
    "peeg = pa.PEEG_Analyse2(file)\n",
    "X = peeg.readSignals()\n",
    "\n",
    "#with Jacobi angles diagonalizer\n",
    "start_time = time.time()\n",
    "sobi_J = sobi.SOBI(X[0:23],[21,22],eps=1e-2)\n",
    "Xc = np.zeros_like(X)\n",
    "Xc[:21] = sobi_J.Xc[:21]\n",
    "Xc[21:24] = X[21:24]"
   ]
  }
 ],
 "metadata": {
  "kernelspec": {
   "display_name": "Python 3",
   "language": "python",
   "name": "python3"
  },
  "language_info": {
   "codemirror_mode": {
    "name": "ipython",
    "version": 3
   },
   "file_extension": ".py",
   "mimetype": "text/x-python",
   "name": "python",
   "nbconvert_exporter": "python",
   "pygments_lexer": "ipython3",
   "version": "3.6.4"
  }
 },
 "nbformat": 4,
 "nbformat_minor": 2
}
